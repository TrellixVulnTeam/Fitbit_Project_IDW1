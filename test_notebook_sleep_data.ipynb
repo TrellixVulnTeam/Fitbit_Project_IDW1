{
 "cells": [
  {
   "cell_type": "code",
   "execution_count": 1,
   "metadata": {},
   "outputs": [],
   "source": [
    "import pandas as pd\n",
    "import os\n",
    "import json"
   ]
  },
  {
   "cell_type": "code",
   "execution_count": 2,
   "metadata": {},
   "outputs": [],
   "source": [
    "path = r'/Users/ericcollins/Documents/Python/Fitbit_Project/MyFitbitData/EricCollins/Sleep/'\n",
    "df = pd.DataFrame()\n",
    "for file in os.listdir(path):\n",
    "    filepath = (path+'/'+file)\n",
    "    if file.startswith('sleep') == True & file.endswith('.json') == True:\n",
    "        # load data using Python JSON module\n",
    "        with open(filepath,'r') as f:\n",
    "            data = json.loads(f.read())\n",
    "        # Flatten data\n",
    "            df_nested_list = pd.json_normalize(data)\n",
    "            df = pd.concat([df,df_nested_list])\n",
    "\n",
    "df = df[['dateOfSleep','startTime','endTime','duration','minutesAsleep','minutesAwake','timeInBed','levels.summary.restless.minutes','levels.summary.deep.minutes','levels.summary.light.minutes','levels.summary.rem.minutes']]\n",
    "df=df.rename(columns={'levels.summary.restless.minutes':'restlessMinutes','levels.summary.deep.minutes':'minutesDeep',\n",
    "                        'levels.summary.light.minutes':'minutesLight','levels.summary.rem.minutes':'minutesREM'})\n",
    "df['dateOfSleep']=pd.to_datetime(df['dateOfSleep'])"
   ]
  },
  {
   "cell_type": "code",
   "execution_count": 6,
   "metadata": {},
   "outputs": [
    {
     "data": {
      "text/plain": [
       "dateOfSleep        datetime64[ns]\n",
       "startTime                  object\n",
       "endTime                    object\n",
       "duration                    int64\n",
       "minutesAsleep               int64\n",
       "minutesAwake                int64\n",
       "timeInBed                   int64\n",
       "restlessMinutes           float64\n",
       "minutesDeep               float64\n",
       "minutesLight              float64\n",
       "minutesREM                float64\n",
       "dtype: object"
      ]
     },
     "execution_count": 6,
     "metadata": {},
     "output_type": "execute_result"
    }
   ],
   "source": [
    "df.dtypes"
   ]
  },
  {
   "cell_type": "code",
   "execution_count": 3,
   "metadata": {},
   "outputs": [],
   "source": [
    "import sqlite3"
   ]
  },
  {
   "cell_type": "code",
   "execution_count": 7,
   "metadata": {},
   "outputs": [],
   "source": [
    "\n",
    "import sqlite3\n",
    "\n",
    "con = sqlite3.connect(\"fitbit_data.db\")\n",
    "\n",
    "\n",
    "\n",
    "# Write the new DataFrame to a new SQLite table\n",
    "df.to_sql(\"Sleep\", con, if_exists=\"replace\")\n",
    "\n",
    "con.close()\n"
   ]
  }
 ],
 "metadata": {
  "interpreter": {
   "hash": "1014d2e9ca1be6beec6249b2e133454c8fa99848fe06a5d81d233d8b1c7ae629"
  },
  "kernelspec": {
   "display_name": "Python 3.8.2 ('dash_project': venv)",
   "language": "python",
   "name": "python3"
  },
  "language_info": {
   "codemirror_mode": {
    "name": "ipython",
    "version": 3
   },
   "file_extension": ".py",
   "mimetype": "text/x-python",
   "name": "python",
   "nbconvert_exporter": "python",
   "pygments_lexer": "ipython3",
   "version": "3.8.2"
  },
  "orig_nbformat": 4
 },
 "nbformat": 4,
 "nbformat_minor": 2
}
