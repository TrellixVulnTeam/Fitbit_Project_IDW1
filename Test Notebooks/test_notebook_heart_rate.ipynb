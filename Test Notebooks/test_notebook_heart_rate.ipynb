{
 "cells": [
  {
   "cell_type": "code",
   "execution_count": 1,
   "metadata": {},
   "outputs": [],
   "source": [
    "import pandas as pd\n",
    "import os\n",
    "import json"
   ]
  },
  {
   "cell_type": "code",
   "execution_count": 2,
   "metadata": {},
   "outputs": [],
   "source": [
    "path = r'/Users/ericcollins/Documents/Python/Fitbit_Project/MyFitbitData/EricCollins/Physical Activity/'\n",
    "df = pd.DataFrame()\n",
    "for file in os.listdir(path):\n",
    "    filepath = (path+'/'+file)\n",
    "    if file.startswith('heart_rate-') & file.endswith('.json'):\n",
    "        data = pd.read_json(filepath)\n",
    "        df = pd.concat([df,data])\n",
    "df = df.sort_values(by='dateTime')\n"
   ]
  },
  {
   "cell_type": "code",
   "execution_count": 7,
   "metadata": {},
   "outputs": [],
   "source": [
    "import datetime as dt\n",
    "df['dateTime']=pd.to_datetime(df['dateTime'])\n",
    "df['date'] = df['dateTime'].dt.date\n",
    "df['time'] = df['dateTime'].dt.time"
   ]
  },
  {
   "cell_type": "code",
   "execution_count": 4,
   "metadata": {},
   "outputs": [
    {
     "data": {
      "text/html": [
       "<div>\n",
       "<style scoped>\n",
       "    .dataframe tbody tr th:only-of-type {\n",
       "        vertical-align: middle;\n",
       "    }\n",
       "\n",
       "    .dataframe tbody tr th {\n",
       "        vertical-align: top;\n",
       "    }\n",
       "\n",
       "    .dataframe thead th {\n",
       "        text-align: right;\n",
       "    }\n",
       "</style>\n",
       "<table border=\"1\" class=\"dataframe\">\n",
       "  <thead>\n",
       "    <tr style=\"text-align: right;\">\n",
       "      <th></th>\n",
       "      <th>value</th>\n",
       "    </tr>\n",
       "    <tr>\n",
       "      <th>date</th>\n",
       "      <th></th>\n",
       "    </tr>\n",
       "  </thead>\n",
       "  <tbody>\n",
       "    <tr>\n",
       "      <th>2022-01-05</th>\n",
       "      <td>71900</td>\n",
       "    </tr>\n",
       "    <tr>\n",
       "      <th>2022-01-06</th>\n",
       "      <td>628170</td>\n",
       "    </tr>\n",
       "    <tr>\n",
       "      <th>2022-01-07</th>\n",
       "      <td>577540</td>\n",
       "    </tr>\n",
       "    <tr>\n",
       "      <th>2022-01-08</th>\n",
       "      <td>482890</td>\n",
       "    </tr>\n",
       "    <tr>\n",
       "      <th>2022-01-09</th>\n",
       "      <td>168330</td>\n",
       "    </tr>\n",
       "    <tr>\n",
       "      <th>...</th>\n",
       "      <td>...</td>\n",
       "    </tr>\n",
       "    <tr>\n",
       "      <th>2022-06-08</th>\n",
       "      <td>588650</td>\n",
       "    </tr>\n",
       "    <tr>\n",
       "      <th>2022-06-09</th>\n",
       "      <td>538050</td>\n",
       "    </tr>\n",
       "    <tr>\n",
       "      <th>2022-06-10</th>\n",
       "      <td>518900</td>\n",
       "    </tr>\n",
       "    <tr>\n",
       "      <th>2022-06-11</th>\n",
       "      <td>407830</td>\n",
       "    </tr>\n",
       "    <tr>\n",
       "      <th>2022-06-12</th>\n",
       "      <td>312780</td>\n",
       "    </tr>\n",
       "  </tbody>\n",
       "</table>\n",
       "<p>157 rows × 1 columns</p>\n",
       "</div>"
      ],
      "text/plain": [
       "             value\n",
       "date              \n",
       "2022-01-05   71900\n",
       "2022-01-06  628170\n",
       "2022-01-07  577540\n",
       "2022-01-08  482890\n",
       "2022-01-09  168330\n",
       "...            ...\n",
       "2022-06-08  588650\n",
       "2022-06-09  538050\n",
       "2022-06-10  518900\n",
       "2022-06-11  407830\n",
       "2022-06-12  312780\n",
       "\n",
       "[157 rows x 1 columns]"
      ]
     },
     "execution_count": 4,
     "metadata": {},
     "output_type": "execute_result"
    }
   ],
   "source": [
    "df.groupby('date').sum()"
   ]
  },
  {
   "cell_type": "code",
   "execution_count": 3,
   "metadata": {},
   "outputs": [
    {
     "data": {
      "text/html": [
       "<div>\n",
       "<style scoped>\n",
       "    .dataframe tbody tr th:only-of-type {\n",
       "        vertical-align: middle;\n",
       "    }\n",
       "\n",
       "    .dataframe tbody tr th {\n",
       "        vertical-align: top;\n",
       "    }\n",
       "\n",
       "    .dataframe thead th {\n",
       "        text-align: right;\n",
       "    }\n",
       "</style>\n",
       "<table border=\"1\" class=\"dataframe\">\n",
       "  <thead>\n",
       "    <tr style=\"text-align: right;\">\n",
       "      <th></th>\n",
       "      <th>dateTime</th>\n",
       "      <th>value</th>\n",
       "    </tr>\n",
       "  </thead>\n",
       "  <tbody>\n",
       "    <tr>\n",
       "      <th>0</th>\n",
       "      <td>2022-01-05 03:22:08</td>\n",
       "      <td>{'bpm': 70, 'confidence': 0}</td>\n",
       "    </tr>\n",
       "    <tr>\n",
       "      <th>1</th>\n",
       "      <td>2022-01-05 03:22:14</td>\n",
       "      <td>{'bpm': 70, 'confidence': 0}</td>\n",
       "    </tr>\n",
       "    <tr>\n",
       "      <th>2</th>\n",
       "      <td>2022-01-05 03:22:30</td>\n",
       "      <td>{'bpm': 70, 'confidence': 0}</td>\n",
       "    </tr>\n",
       "    <tr>\n",
       "      <th>3</th>\n",
       "      <td>2022-01-05 03:22:45</td>\n",
       "      <td>{'bpm': 70, 'confidence': 1}</td>\n",
       "    </tr>\n",
       "    <tr>\n",
       "      <th>4</th>\n",
       "      <td>2022-01-05 03:22:50</td>\n",
       "      <td>{'bpm': 67, 'confidence': 2}</td>\n",
       "    </tr>\n",
       "    <tr>\n",
       "      <th>5</th>\n",
       "      <td>2022-01-05 03:22:58</td>\n",
       "      <td>{'bpm': 65, 'confidence': 1}</td>\n",
       "    </tr>\n",
       "    <tr>\n",
       "      <th>6</th>\n",
       "      <td>2022-01-05 03:23:13</td>\n",
       "      <td>{'bpm': 67, 'confidence': 1}</td>\n",
       "    </tr>\n",
       "    <tr>\n",
       "      <th>7</th>\n",
       "      <td>2022-01-05 03:23:18</td>\n",
       "      <td>{'bpm': 65, 'confidence': 1}</td>\n",
       "    </tr>\n",
       "    <tr>\n",
       "      <th>8</th>\n",
       "      <td>2022-01-05 03:23:28</td>\n",
       "      <td>{'bpm': 65, 'confidence': 0}</td>\n",
       "    </tr>\n",
       "    <tr>\n",
       "      <th>9</th>\n",
       "      <td>2022-01-05 03:23:33</td>\n",
       "      <td>{'bpm': 70, 'confidence': 2}</td>\n",
       "    </tr>\n",
       "  </tbody>\n",
       "</table>\n",
       "</div>"
      ],
      "text/plain": [
       "             dateTime                         value\n",
       "0 2022-01-05 03:22:08  {'bpm': 70, 'confidence': 0}\n",
       "1 2022-01-05 03:22:14  {'bpm': 70, 'confidence': 0}\n",
       "2 2022-01-05 03:22:30  {'bpm': 70, 'confidence': 0}\n",
       "3 2022-01-05 03:22:45  {'bpm': 70, 'confidence': 1}\n",
       "4 2022-01-05 03:22:50  {'bpm': 67, 'confidence': 2}\n",
       "5 2022-01-05 03:22:58  {'bpm': 65, 'confidence': 1}\n",
       "6 2022-01-05 03:23:13  {'bpm': 67, 'confidence': 1}\n",
       "7 2022-01-05 03:23:18  {'bpm': 65, 'confidence': 1}\n",
       "8 2022-01-05 03:23:28  {'bpm': 65, 'confidence': 0}\n",
       "9 2022-01-05 03:23:33  {'bpm': 70, 'confidence': 2}"
      ]
     },
     "execution_count": 3,
     "metadata": {},
     "output_type": "execute_result"
    }
   ],
   "source": [
    "df.head(10)\n"
   ]
  },
  {
   "cell_type": "code",
   "execution_count": 11,
   "metadata": {},
   "outputs": [],
   "source": [
    "df_final = pd.concat([df.drop(['value'], axis=1), df['value'].apply(pd.Series)], axis=1)"
   ]
  }
 ],
 "metadata": {
  "interpreter": {
   "hash": "1014d2e9ca1be6beec6249b2e133454c8fa99848fe06a5d81d233d8b1c7ae629"
  },
  "kernelspec": {
   "display_name": "Python 3.8.2 ('dash_project': venv)",
   "language": "python",
   "name": "python3"
  },
  "language_info": {
   "codemirror_mode": {
    "name": "ipython",
    "version": 3
   },
   "file_extension": ".py",
   "mimetype": "text/x-python",
   "name": "python",
   "nbconvert_exporter": "python",
   "pygments_lexer": "ipython3",
   "version": "3.8.2"
  },
  "orig_nbformat": 4
 },
 "nbformat": 4,
 "nbformat_minor": 2
}
